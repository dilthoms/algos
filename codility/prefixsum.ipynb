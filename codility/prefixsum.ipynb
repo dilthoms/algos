{
 "cells": [
  {
   "cell_type": "code",
   "execution_count": 11,
   "metadata": {},
   "outputs": [],
   "source": [
    "def eqindex(A):\n",
    "    s = 0\n",
    "    for i in range(len(A)):\n",
    "        s = s + A[i]\n",
    "    ls = 0\n",
    "    rs = s\n",
    "    for i in range(len(A)):\n",
    "        rs = rs - A[i]\n",
    "        if ls == rs:\n",
    "            return i\n",
    "        ls = ls + A[i]\n",
    "        \n",
    "    return -1"
   ]
  },
  {
   "cell_type": "code",
   "execution_count": 22,
   "metadata": {},
   "outputs": [
    {
     "data": {
      "text/plain": [
       "3"
      ]
     },
     "execution_count": 22,
     "metadata": {},
     "output_type": "execute_result"
    }
   ],
   "source": [
    "eqindex([1,1,-2,4])"
   ]
  },
  {
   "cell_type": "code",
   "execution_count": 33,
   "metadata": {},
   "outputs": [],
   "source": [
    "def zerosumsubarr(A):\n",
    "    ps = [0]*len(A)\n",
    "    ps[0] = A[0]\n",
    "    z = {}\n",
    "    for i in range(1,len(A)):\n",
    "        ps[i]=ps[i-1]+A[i]\n",
    "    for i in range(1,len(A)):\n",
    "        if ps[i] in z.keys() or ps[i] == 0:\n",
    "            return ps[i],i,i-ps[i]+1\n",
    "        else:\n",
    "            z[ps[i]]= i\n",
    "    return -1\n",
    "    "
   ]
  },
  {
   "cell_type": "code",
   "execution_count": 34,
   "metadata": {},
   "outputs": [
    {
     "data": {
      "text/plain": [
       "(0, 3, 4)"
      ]
     },
     "execution_count": 34,
     "metadata": {},
     "output_type": "execute_result"
    }
   ],
   "source": [
    "zerosumsubarr([1,2,3,-6])"
   ]
  },
  {
   "cell_type": "code",
   "execution_count": null,
   "metadata": {},
   "outputs": [],
   "source": []
  }
 ],
 "metadata": {
  "kernelspec": {
   "display_name": "Python 3",
   "language": "python",
   "name": "python3"
  },
  "language_info": {
   "codemirror_mode": {
    "name": "ipython",
    "version": 3
   },
   "file_extension": ".py",
   "mimetype": "text/x-python",
   "name": "python",
   "nbconvert_exporter": "python",
   "pygments_lexer": "ipython3",
   "version": "3.8.2"
  }
 },
 "nbformat": 4,
 "nbformat_minor": 4
}

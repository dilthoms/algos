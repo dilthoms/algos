{
 "cells": [
  {
   "cell_type": "code",
   "execution_count": 43,
   "metadata": {},
   "outputs": [],
   "source": [
    "#minimum average in a subarray\n",
    "def minavg(A):\n",
    "\n",
    "    n = len(A)\n",
    "    if n <= 2:\n",
    "        return 0\n",
    "    \n",
    "    P = [0]*(n+1)\n",
    "    P[1] = A[0]\n",
    "    for i in range(2,n+1):\n",
    "        P[i] = P[i-1]+A[i-1]\n",
    "    print(P)\n",
    "    curavgidx = 0\n",
    "    bestavgidx = curavgidx\n",
    "    curavg = (A[0]+A[1])/2.0\n",
    "    bestavg = curavg\n",
    "    for i in range(2,n):\n",
    "        thisavg = (A[i-1]+A[i])/2.0\n",
    "        newsum = (P[i+1]-P[curavgidx])\n",
    "        newavg = (P[i+1]-P[curavgidx])/(i-curavgidx+1)\n",
    "        #print(i,curavg,newavg,thisavg,curavgidx)\n",
    "        if thisavg < newavg:\n",
    "            curavg = thisavg\n",
    "            curavgidx = i-1\n",
    "            #print(f\"thisavg {thisavg} less than newavg {newavg} newsum{newsum}\")\n",
    "        else:\n",
    "            curavg = newavg\n",
    "        if bestavg > curavg:\n",
    "            bestavg = curavg\n",
    "            bestavgidx = curavgidx\n",
    "    return bestavgidx,bestavg"
   ]
  },
  {
   "cell_type": "code",
   "execution_count": 42,
   "metadata": {},
   "outputs": [
    {
     "name": "stdout",
     "output_type": "stream",
     "text": [
      "[0, -3, -8, -16, -20, -30]\n",
      "2 -4.0 -5.333333333333333 -6.5 0\n",
      "thisavg -6.5 less than newavg -5.333333333333333 newsum-16\n",
      "3 -6.5 -5.666666666666667 -6.0 1\n",
      "thisavg -6.0 less than newavg -5.666666666666667 newsum-17\n",
      "4 -6.0 -7.333333333333333 -7.0 2\n"
     ]
    },
    {
     "data": {
      "text/plain": [
       "(2, -7.333333333333333)"
      ]
     },
     "execution_count": 42,
     "metadata": {},
     "output_type": "execute_result"
    }
   ],
   "source": [
    "minavg([-3, -5, -8, -4, -10])"
   ]
  },
  {
   "cell_type": "code",
   "execution_count": 22,
   "metadata": {},
   "outputs": [],
   "source": [
    "def eqindex(A):\n",
    "    s = 0\n",
    "    for i in range(len(A)):\n",
    "        s = s + A[i]\n",
    "    ls = 0\n",
    "    rs = s\n",
    "    for i in range(len(A)):\n",
    "        rs = rs - A[i]\n",
    "        if ls == rs:\n",
    "            return i\n",
    "        ls = ls + A[i]\n",
    "        \n",
    "    return -1"
   ]
  },
  {
   "cell_type": "code",
   "execution_count": 22,
   "metadata": {},
   "outputs": [
    {
     "data": {
      "text/plain": [
       "3"
      ]
     },
     "execution_count": 22,
     "metadata": {},
     "output_type": "execute_result"
    }
   ],
   "source": [
    "eqindex([1,1,-2,4])"
   ]
  },
  {
   "cell_type": "code",
   "execution_count": 33,
   "metadata": {},
   "outputs": [],
   "source": [
    "def zerosumsubarr(A):\n",
    "    ps = [0]*len(A)\n",
    "    ps[0] = A[0]\n",
    "    z = {}\n",
    "    for i in range(1,len(A)):\n",
    "        ps[i]=ps[i-1]+A[i]\n",
    "    for i in range(1,len(A)):\n",
    "        if ps[i] in z.keys() or ps[i] == 0:\n",
    "            return ps[i],i,i-ps[i]+1\n",
    "        else:\n",
    "            z[ps[i]]= i\n",
    "    return -1\n",
    "    "
   ]
  },
  {
   "cell_type": "code",
   "execution_count": 34,
   "metadata": {},
   "outputs": [
    {
     "data": {
      "text/plain": [
       "(0, 3, 4)"
      ]
     },
     "execution_count": 34,
     "metadata": {},
     "output_type": "execute_result"
    }
   ],
   "source": [
    "zerosumsubarr([1,2,3,-6])"
   ]
  },
  {
   "cell_type": "code",
   "execution_count": null,
   "metadata": {},
   "outputs": [],
   "source": []
  }
 ],
 "metadata": {
  "kernelspec": {
   "display_name": "Python 3",
   "language": "python",
   "name": "python3"
  },
  "language_info": {
   "codemirror_mode": {
    "name": "ipython",
    "version": 3
   },
   "file_extension": ".py",
   "mimetype": "text/x-python",
   "name": "python",
   "nbconvert_exporter": "python",
   "pygments_lexer": "ipython3",
   "version": "3.8.2"
  }
 },
 "nbformat": 4,
 "nbformat_minor": 4
}
